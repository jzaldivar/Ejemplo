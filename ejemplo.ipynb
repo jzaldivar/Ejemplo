{
 "cells": [
  {
   "cell_type": "markdown",
   "source": [
    "# Programa de ejemplo\r\n",
    "\r\n",
    "## Definición de una función"
   ],
   "metadata": {}
  },
  {
   "cell_type": "code",
   "execution_count": null,
   "source": [
    "import math\r\n",
    "\r\n",
    "def calc_area_circulo(radio):\r\n",
    "    \"\"\" Calcular el área de un círculo dado su radio.\"\"\"\r\n",
    "    area = math.pi * radio ** 2\r\n",
    "    return area\r\n",
    "    "
   ],
   "outputs": [],
   "metadata": {}
  },
  {
   "cell_type": "markdown",
   "source": [
    "## Uso de la función"
   ],
   "metadata": {}
  },
  {
   "cell_type": "code",
   "execution_count": null,
   "source": [
    "calc_area_circulo(10)"
   ],
   "outputs": [],
   "metadata": {}
  },
  {
   "cell_type": "markdown",
   "source": [
    "## Uso de la función dentro de un programa"
   ],
   "metadata": {}
  },
  {
   "cell_type": "code",
   "execution_count": null,
   "source": [
    "# Entradas\r\n",
    "print(\"Calcular el área de un círculo a partir de su radio.\")\r\n",
    "radio = float(input(\"Introduzca el radio del círculo: \"))\r\n",
    "\r\n",
    "# Proceso\r\n",
    "area = calc_area_circulo(radio)\r\n",
    "\r\n",
    "# Salidas\r\n",
    "print(f\"El área es de {area:,.4f}\")\r\n"
   ],
   "outputs": [],
   "metadata": {}
  },
  {
   "cell_type": "markdown",
   "source": [
    "## Cómo se vería el programa completo"
   ],
   "metadata": {}
  },
  {
   "cell_type": "code",
   "execution_count": null,
   "source": [
    "# Declaraciones\r\n",
    "import math\r\n",
    "\r\n",
    "\r\n",
    "def calc_area_circulo(radio):\r\n",
    "    \"\"\" Calcular el área de un círculo dado su radio.\"\"\"\r\n",
    "    area = math.pi * radio ** 2\r\n",
    "    return area\r\n",
    "\r\n",
    "\r\n",
    "# Programa principal\r\n",
    "def main():\r\n",
    "    # Entradas\r\n",
    "    print(\"Calcular el área de un círculo a partir de su radio.\")\r\n",
    "    radio = float(input(\"Introduzca el radio del círculo: \"))\r\n",
    "\r\n",
    "    # Proceso\r\n",
    "    area = calc_area_circulo(radio)\r\n",
    "\r\n",
    "    # Salidas\r\n",
    "    print(f\"El área es de {area:,.4f}\")\r\n",
    "\r\n",
    "\r\n",
    "main()\r\n"
   ],
   "outputs": [],
   "metadata": {}
  }
 ],
 "metadata": {
  "orig_nbformat": 4,
  "language_info": {
   "name": "python"
  }
 },
 "nbformat": 4,
 "nbformat_minor": 2
}